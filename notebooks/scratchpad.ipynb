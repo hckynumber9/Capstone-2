{
 "cells": [
  {
   "cell_type": "code",
   "execution_count": null,
   "metadata": {},
   "outputs": [],
   "source": [
    "X_train, X_test, y_train, y_test = cv.train_test_split(X, y, test_size=0.25, random_state=1)"
   ]
  },
  {
   "cell_type": "markdown",
   "metadata": {},
   "source": [
    "# **GRADIENT BOOSTING**"
   ]
  },
  {
   "cell_type": "code",
   "execution_count": null,
   "metadata": {},
   "outputs": [],
   "source": [
    "model = GradientBoostingClassifier(learning_rate=0.01, \n",
    "                                   n_estimators=1000, \n",
    "                                   min_samples_leaf=10)\n",
    "model.fit(X_train, y_train)"
   ]
  },
  {
   "cell_type": "code",
   "execution_count": null,
   "metadata": {},
   "outputs": [],
   "source": [
    "model.predict_proba(X_train)"
   ]
  },
  {
   "cell_type": "code",
   "execution_count": null,
   "metadata": {},
   "outputs": [],
   "source": [
    "model.score(X_test, y_test)"
   ]
  },
  {
   "cell_type": "code",
   "execution_count": null,
   "metadata": {},
   "outputs": [],
   "source": [
    "names = ['team_id', 'HoA', 'goals', 'shots', 'hits', 'pim', 'powerPlayOpportunities', 'powerPlayGoals', 'faceOffWinPercentage', 'giveaways', 'takeaways', 'streak', 'time_travel']\n",
    "feature_importances = 100*model.feature_importances_ / np.sum(model.feature_importances_)\n",
    "feature_importances, feature_names, feature_idxs = \\\n",
    "    zip(*sorted(zip(feature_importances, names, range(len(names)))))\n",
    "\n",
    "width = 0.8\n",
    "\n",
    "idx = np.arange(len(names))\n",
    "plt.barh(idx, feature_importances, align='center')\n",
    "plt.yticks(idx, feature_names)\n",
    "\n",
    "plt.title(\"Feature Importances in Gradient Booster\")\n",
    "plt.xlabel('Relative Importance of Feature', fontsize=14)\n",
    "plt.ylabel('Feature Name', fontsize=14)"
   ]
  },
  {
   "cell_type": "code",
   "execution_count": null,
   "metadata": {},
   "outputs": [],
   "source": [
    "plot_partial_dependence(model, X_train, names,\n",
    "                        n_jobs=3, grid_resolution=100)\n",
    "fig = plt.gcf()\n",
    "# fig.suptitle('Partial dependence of house value on non-location features\\n'\n",
    "#              'for the California housing dataset, with MLPRegressor')\n",
    "fig.subplots_adjust(hspace=.1, wspace=.3)"
   ]
  },
  {
   "cell_type": "code",
   "execution_count": null,
   "metadata": {},
   "outputs": [],
   "source": [
    "X_nogoals = df.drop(columns=['game_id', 'goals', 'won', 'settled_in', 'head_coach', 'venue_time_zone_offset', 'prev_time'])\n",
    "X_train2, X_test2, y_train2, y_test2 = cv.train_test_split(X_nogoals, y, test_size=0.25, random_state=1)"
   ]
  },
  {
   "cell_type": "code",
   "execution_count": null,
   "metadata": {},
   "outputs": [],
   "source": [
    "model = GradientBoostingClassifier(learning_rate=0.02, \n",
    "                                   n_estimators=1000, \n",
    "                                   min_samples_leaf=10)\n",
    "model.fit(X_train2, y_train2)\n",
    "model.score(X_test2, y_test2)"
   ]
  },
  {
   "cell_type": "code",
   "execution_count": null,
   "metadata": {},
   "outputs": [],
   "source": [
    "names = ['team_id', 'HoA', 'shots', 'hits', 'pim', 'powerPlayOpportunities', 'faceOffWinPercentage', 'giveaways', 'takeaways', 'streak', 'time_travel']\n",
    "feature_importances = 100*model.feature_importances_ / np.sum(model.feature_importances_)\n",
    "feature_importances, feature_names, feature_idxs = zip(*sorted(zip(feature_importances, names, range(len(names)))))\n",
    "\n",
    "width = 0.8\n",
    "\n",
    "idx = np.arange(len(names))\n",
    "plt.barh(idx, feature_importances, align='center')\n",
    "plt.yticks(idx, feature_names)\n",
    "\n",
    "plt.title(\"Feature Importances in Gradient Booster\")\n",
    "plt.xlabel('Relative Importance of Feature', fontsize=14)\n",
    "plt.ylabel('Feature Name', fontsize=14)"
   ]
  },
  {
   "cell_type": "code",
   "execution_count": null,
   "metadata": {},
   "outputs": [],
   "source": []
  },
  {
   "cell_type": "code",
   "execution_count": null,
   "metadata": {},
   "outputs": [],
   "source": []
  },
  {
   "cell_type": "code",
   "execution_count": null,
   "metadata": {},
   "outputs": [],
   "source": [
    "season_20122013 = season_df[season_df.season == 20122013]\n",
    "season = 20122013\n",
    "\n",
    "def seasons(df, season):\n",
    "    \n",
    "    filtered = season_team[season_team.season == season]\n",
    "\n",
    "    # now calc cumulative stats\n",
    "    filtered['gpg'] = (filtered.groupby('team_id')['goals'].cumsum() - filtered['goals']) / filtered.groupby('team_id').cumcount()\n",
    "    filtered['win_per'] = (filtered.groupby('team_id')['won'].cumsum() - filtered['won']) / filtered.groupby('team_id').cumcount()\n",
    "    filtered['shots_pg'] = (filtered.groupby('team_id')['shots'].cumsum() - filtered['shots']) / filtered.groupby('team_id').cumcount()\n",
    "    filtered['hits_pg'] = (filtered.groupby('team_id')['hits'].cumsum() - filtered['hits']) / filtered.groupby('team_id').cumcount()\n",
    "    filtered['pim_pg'] = (filtered.groupby('team_id')['pim'].cumsum() - filtered['pim']) / filtered.groupby('team_id').cumcount()\n",
    "    filtered['hits_pg'] = (filtered.groupby('team_id')['hits'].cumsum() - filtered['hits']) / filtered.groupby('team_id').cumcount()\n",
    "    filtered['fo_per'] = (filtered.groupby('team_id')['faceOffWinPercentage'].cumsum() - filtered['faceOffWinPercentage']) / filtered.groupby('team_id').cumcount()\n",
    "    filtered['giveaways_pg'] = (filtered.groupby('team_id')['giveaways'].cumsum() - filtered['giveaways']) / filtered.groupby('team_id').cumcount()\n",
    "    filtered['takeaways_pg'] = (filtered.groupby('team_id')['takeaways'].cumsum() - filtered['takeaways']) / filtered.groupby('team_id').cumcount()\n",
    "    filtered['ppg_per'] = ((filtered.groupby('team_id')['powerPlayGoals'].cumsum() - filtered['powerPlayGoals'])) / ((filtered.groupby('team_id')['powerPlayOpportunities'].cumsum() - filtered['powerPlayOpportunities']))\n",
    "\n",
    "    return filtered\n",
    "\n",
    "def filter_home_away(df_filtered, df):\n",
    "    \n",
    "    # filter home team stats\n",
    "    filtered_h = df_filtered[df_filtered.HoA == 'home']\n",
    "    filtered_h = filtered_h.filter(items=['game_id', 'season', 'streak', 'time_travel', 'gpg', 'win_per', 'ppg_per', 'shots_pg', 'hits_pg', 'pim_pg', 'fo_per', 'giveaways_pg', 'takeaways_pg'])\n",
    "    filtered_h = filtered_h.rename(columns={'streak': 'home_streak', 'time_travel': 'home_time_travel', 'gpg': 'home_gpg', \"win_per\": \"home_win_per\", \"ppg_per\": \"home_ppg_per\", 'shots_pg': 'home_shots_pg', 'hits_pg': 'home_hits_pg', 'pim_pg': 'home_pim_pg', 'fo_per': 'home_fo_per', 'giveaways_pg': 'home_giveaways_pg',\n",
    "       'takeaways_pg': 'home_takeaways_pg'})\n",
    "    # merge home team stats\n",
    "    df = df.merge(filtered_h, on='game_id', how='left')\n",
    "\n",
    "    # filter away team stats\n",
    "    filtered_a = df_filtered[df_filtered.HoA == 'away']\n",
    "    filtered_a = filtered_a.filter(items=['game_id', 'season', 'streak', 'time_travel', 'gpg', 'win_per', 'ppg_per', 'shots_pg', 'hits_pg', 'pim_pg', 'fo_per', 'giveaways_pg', 'takeaways_pg'])\n",
    "    filtered_a = filtered_a.rename(columns={'streak': 'away_streak', 'time_travel': 'away_time_travel', 'gpg': 'away_gpg', \"win_per\": \"away_win_per\", \"ppg_per\": \"away_ppg_per\", 'shots_pg': 'away_shots_pg', 'hits_pg': 'away_hits_pg', 'pim_pg': 'away_pim_pg', 'fo_per': 'away_fo_per', 'giveaways_pg': 'away_giveaways_pg',\n",
    "       'takeaways_pg': 'away_takeaways_pg'})\n",
    "\n",
    "    # merge away team stats\n",
    "    df = df.merge(filtered_a, on='game_id', how='left')\n",
    "    \n",
    "    return df\n",
    "\n",
    "def replace_bools_fillna(df):\n",
    "    \n",
    "    df = df.drop(columns=['season_x', 'season_y', 'game_id', 'type', 'date_time', 'date_time_GMT'])\n",
    "    df = df.replace({'home_streak': False}, 0)\n",
    "    df = df.replace({'home_streak': True}, 1)\n",
    "    df = df.replace({'away_streak': False}, 0)\n",
    "    df = df.replace({'away_streak': True}, 1)\n",
    "    df = df.replace({'outcome': 'loss'}, 0)\n",
    "    df = df.replace({'outcome': 'win'}, 1)\n",
    "    df = df.fillna(0)\n",
    "    \n",
    "    return df"
   ]
  },
  {
   "cell_type": "code",
   "execution_count": null,
   "metadata": {},
   "outputs": [],
   "source": [
    "season_20122013 = season_20122013.drop(labels=['season'], axis=1)"
   ]
  },
  {
   "cell_type": "code",
   "execution_count": null,
   "metadata": {},
   "outputs": [],
   "source": [
    "### replace_bools_fillna(filter_home_away(seasons(season_20122013_test, season), season_20122013_test))"
   ]
  }
 ],
 "metadata": {
  "kernelspec": {
   "display_name": "Python 3",
   "language": "python",
   "name": "python3"
  },
  "language_info": {
   "codemirror_mode": {
    "name": "ipython",
    "version": 3
   },
   "file_extension": ".py",
   "mimetype": "text/x-python",
   "name": "python",
   "nbconvert_exporter": "python",
   "pygments_lexer": "ipython3",
   "version": "3.7.6"
  }
 },
 "nbformat": 4,
 "nbformat_minor": 4
}
